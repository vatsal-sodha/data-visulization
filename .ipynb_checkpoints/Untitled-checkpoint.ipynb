{
 "cells": [
  {
   "cell_type": "code",
<<<<<<< HEAD
   "execution_count": 1,
=======
<<<<<<< HEAD
   "execution_count": 9,
   "metadata": {},
   "outputs": [
    {
     "name": "stdout",
     "output_type": "stream",
     "text": [
      "                State  Population-2011  Growth\n",
      "0       Uttar Pradesh        199281474   20.10\n",
      "1         Maharashtra        112372972   16.00\n",
      "2               Bihar        103804637   25.10\n",
      "3         West Bengal         91347736   13.90\n",
      "4      Madhya Pradesh         72597565   20.30\n",
      "5          Tamil Nadu         72138958   15.60\n",
      "6           Rajasthan         68621012   21.40\n",
      "7           Karnataka         61130704   15.70\n",
      "8             Gujarat         60383628   19.20\n",
      "9      Andhra Pradesh         49386799   11.10\n",
      "10             Odisha         41947358   14.00\n",
      "11          Telangana         35286757   17.87\n",
      "12             Kerala         33387677    4.90\n",
      "13          Jharkhand         32966238   22.30\n",
      "14              Assam         31169272   16.90\n",
      "15             Punjab         27704236   13.70\n",
      "16       Chhattisgarh         25540196   22.60\n",
      "17            Haryana         25353081   19.90\n",
      "18    Jammu & Kashmir         12548926   23.70\n",
      "19        Uttarakhand         10116752   19.20\n",
      "20   Himachal Pradesh          6864602   12.80\n",
      "21            Tripura          3671032   15.70\n",
      "22          Meghalaya          2964007   27.80\n",
      "23            Manipur          2721756   18.70\n",
      "24           Nagaland          1980602   -0.50\n",
      "25                Goa          1457723    8.20\n",
      "26  Arunachal Pradesh          1382611   25.90\n",
      "27            Mizoram          1091014   22.80\n",
      "28             Sikkim           607688   12.40\n",
      "29              Delhi         16753235   21.00\n",
      "30         Puducherry          1244464   27.70\n",
      "31         Chandigarh          1054686   17.10\n",
      "32      A & N Islands           379944    6.70\n",
      "33         D&N Haveli           342853   55.50\n",
      "34        Daman & Diu           242911   53.50\n",
      "35        Lakshadweep            64429    6.20\n"
     ]
    }
   ],
=======
   "execution_count": 132,
>>>>>>> 7a4bc3390175ef81ee70729d05d7fe55a8660550
   "metadata": {
    "collapsed": false,
    "deletable": true,
    "editable": true
   },
   "outputs": [],
>>>>>>> 03ddec6d995ff55848e0267742988aa4dd051d4c
   "source": [
    "import csv\n",
    "import pandas as pd\n",
    "import numpy as np\n",
    "import re\n",
    "import matplotlib.pyplot as plt\n",
    "\n",
    "murderFile1=\"murder_data/Murder-2001-2012.csv\"\n",
    "murderFile2=\"murder_data/Murder-2013.csv\"\n",
    "murderFile3=\"murder_data/Murder-2015.csv\"\n",
    "\n",
    "\n",
    "kidnappingFile1=\"kidnapping_data/kidnapping-2001-2012.csv\"\n",
    "kidnappingFile2=\"kidnapping_data/kidnapping-2013.csv\"\n",
    "kidnappingFile3=\"kidnapping_data/kidnapping-2014.csv\"\n",
    "kidnappingFile4=\"kidnapping_data/kidnapping-2015.csv\"\n",
    "\n",
    "rapeFile1=\"rape_data/rape-2001-2012.csv\"\n",
    "rapeFile2=\"rape_data/rape-2013.csv\"\n",
    "rapeFile3=\"rape_data/rape-2015.csv\"\n",
    "\n",
<<<<<<< HEAD
=======
    "populationFile=\"population.csv\"\n",
    "\n",
>>>>>>> 03ddec6d995ff55848e0267742988aa4dd051d4c
    "def murderDataIntegration():\n",
    "\tdf1=pd.read_csv(murderFile1)\n",
    "\tdf2=pd.read_csv(murderFile2)\n",
    "\tdf3=pd.read_csv(murderFile3,encoding = \"ISO-8859-1\")\n",
    "\tdf1=df1[['STATE/UT','GENDER','YEAR','Total']]\n",
    "\tdf2=df2[['STATE/UT','GENDER','YEAR','Total']]\n",
    "\tdf3=df3[['State/UT','Number of Victims - Total of All Age Groups - T']]\n",
    "\n",
    "\tdf1['GENDER']=(df1.loc[df1['GENDER']=='Total'])\n",
    "\tdf1=df1.dropna()\n",
    "\t# print(df1.head)\n",
    "\tdf2['GENDER']=(df2.loc[df2['GENDER']=='Total'])\n",
    "\tdf2=df2.dropna()\n",
    "\t# df3=df3[(df3['State/UT']==\"\")]\n",
    "\tdf3=df3.drop(df3[df3['State/UT'].isin([\"TOTAL (STATES)\",\"TOTAL (UTS)\",\"TOTAL (ALL INDIA)\"])].index)\n",
    "\t# appending data and renaming\n",
    "\tdf=df1.append(df2)\n",
    "\tdf=df.drop('GENDER',1)\n",
    "\tdf=df.rename(columns={'STATE/UT':'State','YEAR':'Year','Total':'Total'})\n",
    "\n",
    "\tdf3['Year']='2015'\n",
    "\tdf3=df3.rename(columns={'State/UT':'State','Year':'Year','Number of Victims - Total of All Age Groups - T':'Total'})\n",
    "\tdf=df.append(df3)\n",
    "\treturn df\n",
    "\n",
    "def kidnappingDataIntegration():\n",
    "\tdf1=pd.read_csv(kidnappingFile1)\n",
    "\tdf2=pd.read_csv(kidnappingFile2)\n",
    "\tdf3=pd.read_csv(kidnappingFile3)\n",
    "\tdf4=pd.read_csv(kidnappingFile4,encoding = \"ISO-8859-1\")\n",
    "\n",
    "\tdf1=df1[['STATE/UT','YEAR','Purpose','Grand Total']]\n",
    "\tdf2=df2[['STATE/UT','YEAR','Purpose','Grand Total']]\n",
    "\tdf3=df3[['States/UTs','Crime Head','Year','Total_Sex and Age Wise']]\n",
    "\tdf4=df4[['State/UT','Grand Total']]\n",
    "\n",
    "\t# changed pupose to purpose in data set and preprocessing the data file 1 & 2\n",
    "\tdf1['Purpose']=(df1.loc[df1['Purpose']=='Total'])\n",
    "\tdf1=df1.dropna()\n",
    "\tdf1=df1.drop('Purpose',1)\n",
    "\n",
    "\tdf2['Purpose']=(df2.loc[df2['Purpose']=='Total'])\n",
    "\tdf2=df2.dropna()\n",
    "\tdf2=df2.drop('Purpose',1)\n",
    "\n",
    "\tdf3=(df3.loc[df3['Crime Head']=='2 - Total Kidnapped & abducted'])\n",
    "\tdf3=df3.drop(df3[df3['States/UTs'].isin([\"Total (States)\",\"Total (UTs)\",\"Total (All India)\"])].index)\n",
    "\tdf3=df3.dropna()\n",
    "\tdf3=df3.drop('Crime Head',1)\n",
    "\n",
    "\tdf4=df4.drop(df4[df4['State/UT'].isin([\"TOTAL (STATES)\",\"TOTAL (UTS)\",\"TOTAL ALL INDIA\"])].index)\n",
    "\tdf4['Year']='2015'\n",
    "\tdf4=df4.rename(columns={'State/UT':'State','Year':'Year','Grand Total':'Total'})\n",
    "\n",
    "\t# appending the data\n",
    "\tdf=df1.append(df2)\n",
    "\tdf=df.rename(columns={'STATE/UT':'State','YEAR':'Year','Grand Total':'Total'})\n",
    "\tdf3=df3.rename(columns={'States/UTs':'State','Year':'Year','Total_Sex and Age Wise':'Total'})\n",
    "\tdf=df.append(df3)\n",
    "\tdf=df.append(df4)\n",
<<<<<<< HEAD
    "\tprint(df1.shape)\n",
    "\tprint(df2.shape)\n",
    "\tprint(df3.shape)\n",
    "\tprint(df4.shape)\n",
    "\tprint(df.shape)\n",
    "\n",
=======
    "\treturn df\n",
>>>>>>> 03ddec6d995ff55848e0267742988aa4dd051d4c
    "\n",
    "def rapeDataIntegration():\n",
    "    df1=pd.read_csv(rapeFile1)\n",
    "    df2=pd.read_csv(rapeFile2)\n",
    "    df3=pd.read_csv(rapeFile3,encoding = \"ISO-8859-1\")\n",
    "    df1=df1[['STATE/UT','YEAR','Crime Head','Total Victims']]\n",
    "    df2=df2[['STATE/UT','YEAR','Crime Head','Total Victims']]\n",
    "    df3=df3[['State/UT','Number of Victims (Total Rape Cases) - Total Victims']]\n",
    "    df1['Crime Head']=(df1.loc[df1['Crime Head']=='Total'])\n",
    "    df1=df1.dropna()\n",
    "    df1=df1.drop('Crime Head',1)\n",
    "    df2['Crime Head']=(df2.loc[df2['Crime Head']=='Total'])\n",
    "    df2=df2.dropna()\n",
    "    df2=df2.drop('Crime Head',1)\n",
    "    df2=df2.drop(df2[df2['STATE/UT'].isin([\"Total (State)\",\"Total (All-India)\",\"Total (UTs)\"])].index)\n",
    "    df3=df3.drop(df3[df3['State/UT'].isin([\"TOTAL (STATES)\",\"TOTAL (UTS)\",\"TOTAL (ALL INDIA)\"])].index)\n",
    "    df3['Year']='2015'\n",
    "    df1=df1.rename(columns={'STATE/UT':'State','YEAR':'Year','Total Victims':'Total'})\n",
    "    df2=df2.rename(columns={'STATE/UT':'State','YEAR':'Year','Total Victims':'Total'})\n",
    "    df3=df3.rename(columns={'State/UT':'State','Year':'Year','Number of Victims (Total Rape Cases) - Total Victims':'Total'})\n",
    "    df=df1.append(df2)\n",
    "    df=df.append(df3)\n",
<<<<<<< HEAD
    "    print(df1.shape)\n",
    "    print(df2.shape)\n",
    "    print(df3.shape)\n",
    "    print(df.shape)\n",
    "    return df\n",
    "\n",
    "        \n",
    "#rapeDataIntegration()\n"
   ]
  },
  {
   "cell_type": "code",
   "execution_count": null,
   "metadata": {
    "collapsed": true
   },
   "outputs": [],
   "source": []
  },
  {
   "cell_type": "code",
   "execution_count": null,
   "metadata": {
    "collapsed": true
   },
   "outputs": [],
   "source": []
  },
  {
   "cell_type": "code",
   "execution_count": null,
   "metadata": {
    "collapsed": true
   },
   "outputs": [],
   "source": []
  },
  {
   "cell_type": "code",
   "execution_count": null,
   "metadata": {
    "collapsed": true
   },
   "outputs": [],
   "source": []
  },
  {
   "cell_type": "code",
   "execution_count": null,
   "metadata": {
    "collapsed": true
   },
   "outputs": [],
   "source": []
  },
  {
   "cell_type": "code",
   "execution_count": null,
   "metadata": {
    "collapsed": true
   },
   "outputs": [],
   "source": []
=======
    "    return df\n",
    "\n",
    "#rapeDataIntegration()\n",
    "\n",
    "\n",
    "rapeData=rapeDataIntegration()\n",
    "murderData=murderDataIntegration()\n",
    "kidnappingData=kidnappingDataIntegration()\n",
    "populationData=pd.read_csv(populationFile)\n",
    "rapeData.loc[rapeData.State==\"A&N Islands\",'State']=\"A & N Islands\"\n",
    "murderData.loc[murderData.State==\"A&N Islands\",'State']=\"A & N Islands\"\n",
    "kidnappingData.loc[kidnappingData.State==\"A&N Islands\",'State']=\"A & N Islands\""
   ]
<<<<<<< HEAD
  },
  {
   "cell_type": "code",
   "execution_count": 2,
   "metadata": {
    "collapsed": false,
    "deletable": true,
    "editable": true
   },
   "outputs": [
    {
     "data": {
      "text/html": [
       "<iframe id=\"igraph\" scrolling=\"no\" style=\"border:none;\" seamless=\"seamless\" src=\"https://plot.ly/~vatsal-sodha/4.embed\" height=\"525px\" width=\"100%\"></iframe>"
      ],
      "text/plain": [
       "<plotly.tools.PlotlyDisplay object>"
      ]
     },
     "execution_count": 2,
     "metadata": {},
     "output_type": "execute_result"
    }
   ],
   "source": [
    "import plotly.plotly as py\n",
    "import plotly.graph_objs as go \n",
    "\n",
    "from datetime import datetime\n",
    "import pandas_datareader as web\n",
    "\n",
    "df = kidnappingData\n",
    "\n",
    "# trace_high = go.Scatter(x=df.index,\n",
    "#                         y=df.High,\n",
    "#                         name='High',\n",
    "#                         line=dict(color='#33CFA5'))\n",
    "\n",
    "# trace_high_avg = go.Scatter(x=df.index,\n",
    "#                             y=[df.High.mean()]*len(df.index),\n",
    "#                             name='High Average',\n",
    "#                             visible=False,\n",
    "#                             line=dict(color='#33CFA5', dash='dash'))\n",
    "\n",
    "# trace_low = go.Scatter(x=df.index,\n",
    "#                        y=df.Low,\n",
    "#                        name='Low',\n",
    "#                        line=dict(color='#F06A6A'))\n",
    "\n",
    "# trace_low_avg = go.Scatter(x=df.index,\n",
    "#                            y=[df.Low.mean()]*len(df.index),\n",
    "#                            name='Low Average',\n",
    "#                            visible=False,\n",
    "#                            line=dict(color='#F06A6A', dash='dash'))\n",
    "\n",
    "data = [trace_high, trace_high_avg, trace_low, trace_low_avg]\n",
    "\n",
    "# high_annotations=[dict(x='2016-03-01',\n",
    "#                        y=df.High.mean(),\n",
    "#                        xref='x', yref='y',\n",
    "#                        text='High Average:<br>'+str(df.High.mean()),\n",
    "#                        ax=0, ay=-40),\n",
    "#                   dict(x=df.High.idxmax(),\n",
    "#                        y=df.High.max(),\n",
    "#                        xref='x', yref='y',\n",
    "#                        text='High Max:<br>'+str(df.High.max()),\n",
    "#                        ax=0, ay=-40)]\n",
    "# low_annotations=[dict(x='2015-05-01',\n",
    "#                       y=df.Low.mean(),\n",
    "#                       xref='x', yref='y',\n",
    "#                       text='Low Average:<br>'+str(df.Low.mean()),\n",
    "#                       ax=0, ay=40),\n",
    "#                  dict(x=df.High.idxmin(),\n",
    "#                       y=df.Low.min(),\n",
    "#                       xref='x', yref='y',\n",
    "#                       text='Low Min:<br>'+str(df.Low.min()),\n",
    "#                       ax=0, ay=40)]\n",
    "\n",
    "updatemenus = list([\n",
    "    dict(active=-1,\n",
    "         buttons=list([   \n",
    "            dict(label = 'High',\n",
    "                 method = 'update',\n",
    "                 args = [{'visible': [True, True, False, False]},\n",
    "                         {'title': 'Yahoo High',\n",
    "                          'annotations': high_annotations}]),\n",
    "            dict(label = 'Low',\n",
    "                 method = 'update',\n",
    "                 args = [{'visible': [False, False, True, True]},\n",
    "                         {'title': 'Yahoo Low',\n",
    "                          'annotations': low_annotations}]),\n",
    "            dict(label = 'Both',\n",
    "                 method = 'update',\n",
    "                 args = [{'visible': [True, True, True, True]},\n",
    "                         {'title': 'Yahoo',\n",
    "                          'annotations': high_annotations+low_annotations}]),\n",
    "            dict(label = 'Reset',\n",
    "                 method = 'update',\n",
    "                 args = [{'visible': [True, False, True, False]},\n",
    "                         {'title': 'Yahoo',\n",
    "                          'annotations': []}])\n",
    "        ]),\n",
    "    )\n",
    "])\n",
    "\n",
    "layout = dict(title='Yahoo', showlegend=False,\n",
    "              updatemenus=updatemenus)\n",
    "\n",
    "fig = dict(data=data, layout=layout)\n",
    "py.iplot(fig, filename='update_dropdown')"
   ]
  },
  {
   "cell_type": "code",
   "execution_count": 3,
   "metadata": {
    "collapsed": false,
    "deletable": true,
    "editable": true
   },
   "outputs": [
    {
     "ename": "NameError",
     "evalue": "name 'init_notebook_mode' is not defined",
     "output_type": "error",
     "traceback": [
      "\u001b[0;31m---------------------------------------------------------------------------\u001b[0m",
      "\u001b[0;31mNameError\u001b[0m                                 Traceback (most recent call last)",
      "\u001b[0;32m<ipython-input-3-42d2de24b332>\u001b[0m in \u001b[0;36m<module>\u001b[0;34m()\u001b[0m\n\u001b[0;32m----> 1\u001b[0;31m \u001b[0minit_notebook_mode\u001b[0m\u001b[0;34m(\u001b[0m\u001b[0mconnected\u001b[0m\u001b[0;34m=\u001b[0m\u001b[0;32mTrue\u001b[0m\u001b[0;34m)\u001b[0m\u001b[0;34m\u001b[0m\u001b[0m\n\u001b[0m\u001b[1;32m      2\u001b[0m \u001b[0;32mfrom\u001b[0m \u001b[0mplotly\u001b[0m\u001b[0;34m.\u001b[0m\u001b[0mgraph_objs\u001b[0m \u001b[0;32mimport\u001b[0m \u001b[0mScatter\u001b[0m\u001b[0;34m,\u001b[0m \u001b[0mFigure\u001b[0m\u001b[0;34m,\u001b[0m \u001b[0mLayout\u001b[0m\u001b[0;34m\u001b[0m\u001b[0m\n\u001b[1;32m      3\u001b[0m \u001b[0;34m\u001b[0m\u001b[0m\n\u001b[1;32m      4\u001b[0m \u001b[0mplot\u001b[0m\u001b[0;34m(\u001b[0m\u001b[0;34m[\u001b[0m\u001b[0mScatter\u001b[0m\u001b[0;34m(\u001b[0m\u001b[0mx\u001b[0m\u001b[0;34m=\u001b[0m\u001b[0;34m[\u001b[0m\u001b[0;36m1\u001b[0m\u001b[0;34m,\u001b[0m \u001b[0;36m2\u001b[0m\u001b[0;34m,\u001b[0m \u001b[0;36m3\u001b[0m\u001b[0;34m]\u001b[0m\u001b[0;34m,\u001b[0m \u001b[0my\u001b[0m\u001b[0;34m=\u001b[0m\u001b[0;34m[\u001b[0m\u001b[0;36m3\u001b[0m\u001b[0;34m,\u001b[0m \u001b[0;36m1\u001b[0m\u001b[0;34m,\u001b[0m \u001b[0;36m6\u001b[0m\u001b[0;34m]\u001b[0m\u001b[0;34m)\u001b[0m\u001b[0;34m]\u001b[0m\u001b[0;34m)\u001b[0m\u001b[0;34m\u001b[0m\u001b[0m\n",
      "\u001b[0;31mNameError\u001b[0m: name 'init_notebook_mode' is not defined"
     ]
    }
   ],
   "source": [
    "init_notebook_mode(connected=True)\n",
    "from plotly.graph_objs import Scatter, Figure, Layout\n",
    "\n",
    "plot([Scatter(x=[1, 2, 3], y=[3, 1, 6])])"
   ]
  },
  {
   "cell_type": "code",
   "execution_count": null,
   "metadata": {
    "collapsed": false,
    "deletable": true,
    "editable": true
   },
   "outputs": [],
   "source": [
    "from ipywidgets import widgets \n",
    "from IPython.display import display, clear_output, Image\n",
    "from plotly.graph_objs import *\n",
    "from plotly.widgets import GraphWidget"
   ]
  },
  {
   "cell_type": "code",
   "execution_count": null,
   "metadata": {
    "collapsed": false,
    "deletable": true,
    "editable": true
   },
   "outputs": [],
   "source": [
    "g = GraphWidget('https://plot.ly/~kevintest/1149/')\n",
    "w = widgets.Dropdown(\n",
    "    options=['red', 'blue', 'green'],\n",
    "    value='blue',\n",
    "    description='Colour:',\n",
    ")\n",
    "\n",
    "# generate a function to handle changes in the widget\n",
    "def update_on_change(change):\n",
    "   g.restyle({'marker.color': change['new']})\n",
    "    \n",
    "# set a listener for changes to the dropdown widget    \n",
    "w.observe(update_on_change, names=\"selected_label\")\n",
    "\n",
    "display(w)\n",
    "display(g)"
   ]
  },
  {
   "cell_type": "code",
   "execution_count": 15,
   "metadata": {
    "collapsed": false,
    "deletable": true,
    "editable": true
   },
   "outputs": [
    {
     "data": {
      "text/html": [
       "<div>\n",
       "<table border=\"1\" class=\"dataframe\">\n",
       "  <thead>\n",
       "    <tr style=\"text-align: right;\">\n",
       "      <th></th>\n",
       "      <th>Open</th>\n",
       "      <th>High</th>\n",
       "      <th>Low</th>\n",
       "      <th>Close</th>\n",
       "      <th>Volume</th>\n",
       "    </tr>\n",
       "    <tr>\n",
       "      <th>Date</th>\n",
       "      <th></th>\n",
       "      <th></th>\n",
       "      <th></th>\n",
       "      <th></th>\n",
       "      <th></th>\n",
       "    </tr>\n",
       "  </thead>\n",
       "  <tbody>\n",
       "    <tr>\n",
       "      <th>2016-09-26</th>\n",
       "      <td>111.64</td>\n",
       "      <td>113.39</td>\n",
       "      <td>111.55</td>\n",
       "      <td>112.88</td>\n",
       "      <td>29869442</td>\n",
       "    </tr>\n",
       "    <tr>\n",
       "      <th>2016-09-27</th>\n",
       "      <td>113.00</td>\n",
       "      <td>113.18</td>\n",
       "      <td>112.34</td>\n",
       "      <td>113.09</td>\n",
       "      <td>24607412</td>\n",
       "    </tr>\n",
       "    <tr>\n",
       "      <th>2016-09-28</th>\n",
       "      <td>113.69</td>\n",
       "      <td>114.64</td>\n",
       "      <td>113.43</td>\n",
       "      <td>113.95</td>\n",
       "      <td>29641085</td>\n",
       "    </tr>\n",
       "    <tr>\n",
       "      <th>2016-09-29</th>\n",
       "      <td>113.16</td>\n",
       "      <td>113.80</td>\n",
       "      <td>111.80</td>\n",
       "      <td>112.18</td>\n",
       "      <td>35886990</td>\n",
       "    </tr>\n",
       "    <tr>\n",
       "      <th>2016-09-30</th>\n",
       "      <td>112.46</td>\n",
       "      <td>113.37</td>\n",
       "      <td>111.80</td>\n",
       "      <td>113.05</td>\n",
       "      <td>36379106</td>\n",
       "    </tr>\n",
       "    <tr>\n",
       "      <th>2016-10-03</th>\n",
       "      <td>112.71</td>\n",
       "      <td>113.05</td>\n",
       "      <td>112.28</td>\n",
       "      <td>112.52</td>\n",
       "      <td>21701760</td>\n",
       "    </tr>\n",
       "    <tr>\n",
       "      <th>2016-10-04</th>\n",
       "      <td>113.06</td>\n",
       "      <td>114.31</td>\n",
       "      <td>112.63</td>\n",
       "      <td>113.00</td>\n",
       "      <td>29736835</td>\n",
       "    </tr>\n",
       "    <tr>\n",
       "      <th>2016-10-05</th>\n",
       "      <td>113.40</td>\n",
       "      <td>113.66</td>\n",
       "      <td>112.69</td>\n",
       "      <td>113.05</td>\n",
       "      <td>21453089</td>\n",
       "    </tr>\n",
       "    <tr>\n",
       "      <th>2016-10-06</th>\n",
       "      <td>113.70</td>\n",
       "      <td>114.34</td>\n",
       "      <td>113.13</td>\n",
       "      <td>113.89</td>\n",
       "      <td>28779313</td>\n",
       "    </tr>\n",
       "    <tr>\n",
       "      <th>2016-10-07</th>\n",
       "      <td>114.31</td>\n",
       "      <td>114.56</td>\n",
       "      <td>113.51</td>\n",
       "      <td>114.06</td>\n",
       "      <td>24358443</td>\n",
       "    </tr>\n",
       "    <tr>\n",
       "      <th>2016-10-10</th>\n",
       "      <td>115.02</td>\n",
       "      <td>116.75</td>\n",
       "      <td>114.72</td>\n",
       "      <td>116.05</td>\n",
       "      <td>36235956</td>\n",
       "    </tr>\n",
       "    <tr>\n",
       "      <th>2016-10-11</th>\n",
       "      <td>117.70</td>\n",
       "      <td>118.69</td>\n",
       "      <td>116.20</td>\n",
       "      <td>116.30</td>\n",
       "      <td>64041043</td>\n",
       "    </tr>\n",
       "    <tr>\n",
       "      <th>2016-10-12</th>\n",
       "      <td>117.35</td>\n",
       "      <td>117.98</td>\n",
       "      <td>116.75</td>\n",
       "      <td>117.34</td>\n",
       "      <td>37586787</td>\n",
       "    </tr>\n",
       "    <tr>\n",
       "      <th>2016-10-13</th>\n",
       "      <td>116.79</td>\n",
       "      <td>117.44</td>\n",
       "      <td>115.72</td>\n",
       "      <td>116.98</td>\n",
       "      <td>35192406</td>\n",
       "    </tr>\n",
       "    <tr>\n",
       "      <th>2016-10-14</th>\n",
       "      <td>117.88</td>\n",
       "      <td>118.17</td>\n",
       "      <td>117.13</td>\n",
       "      <td>117.63</td>\n",
       "      <td>35652191</td>\n",
       "    </tr>\n",
       "    <tr>\n",
       "      <th>2016-10-17</th>\n",
       "      <td>117.33</td>\n",
       "      <td>117.84</td>\n",
       "      <td>116.78</td>\n",
       "      <td>117.55</td>\n",
       "      <td>23624896</td>\n",
       "    </tr>\n",
       "    <tr>\n",
       "      <th>2016-10-18</th>\n",
       "      <td>118.18</td>\n",
       "      <td>118.21</td>\n",
       "      <td>117.45</td>\n",
       "      <td>117.47</td>\n",
       "      <td>24553478</td>\n",
       "    </tr>\n",
       "    <tr>\n",
       "      <th>2016-10-19</th>\n",
       "      <td>117.25</td>\n",
       "      <td>117.76</td>\n",
       "      <td>113.80</td>\n",
       "      <td>117.12</td>\n",
       "      <td>20034594</td>\n",
       "    </tr>\n",
       "    <tr>\n",
       "      <th>2016-10-20</th>\n",
       "      <td>116.86</td>\n",
       "      <td>117.38</td>\n",
       "      <td>116.33</td>\n",
       "      <td>117.06</td>\n",
       "      <td>24125801</td>\n",
       "    </tr>\n",
       "    <tr>\n",
       "      <th>2016-10-21</th>\n",
       "      <td>116.81</td>\n",
       "      <td>116.91</td>\n",
       "      <td>116.28</td>\n",
       "      <td>116.60</td>\n",
       "      <td>23192665</td>\n",
       "    </tr>\n",
       "    <tr>\n",
       "      <th>2016-10-24</th>\n",
       "      <td>117.10</td>\n",
       "      <td>117.74</td>\n",
       "      <td>117.00</td>\n",
       "      <td>117.65</td>\n",
       "      <td>23538673</td>\n",
       "    </tr>\n",
       "    <tr>\n",
       "      <th>2016-10-25</th>\n",
       "      <td>117.95</td>\n",
       "      <td>118.36</td>\n",
       "      <td>117.31</td>\n",
       "      <td>118.25</td>\n",
       "      <td>48128970</td>\n",
       "    </tr>\n",
       "    <tr>\n",
       "      <th>2016-10-26</th>\n",
       "      <td>114.31</td>\n",
       "      <td>115.70</td>\n",
       "      <td>113.31</td>\n",
       "      <td>115.59</td>\n",
       "      <td>66134219</td>\n",
       "    </tr>\n",
       "    <tr>\n",
       "      <th>2016-10-27</th>\n",
       "      <td>115.39</td>\n",
       "      <td>115.86</td>\n",
       "      <td>114.10</td>\n",
       "      <td>114.48</td>\n",
       "      <td>34562045</td>\n",
       "    </tr>\n",
       "    <tr>\n",
       "      <th>2016-10-28</th>\n",
       "      <td>113.87</td>\n",
       "      <td>115.21</td>\n",
       "      <td>113.45</td>\n",
       "      <td>113.72</td>\n",
       "      <td>37861662</td>\n",
       "    </tr>\n",
       "    <tr>\n",
       "      <th>2016-10-31</th>\n",
       "      <td>113.65</td>\n",
       "      <td>114.23</td>\n",
       "      <td>113.20</td>\n",
       "      <td>113.54</td>\n",
       "      <td>26419398</td>\n",
       "    </tr>\n",
       "    <tr>\n",
       "      <th>2016-11-01</th>\n",
       "      <td>113.46</td>\n",
       "      <td>113.77</td>\n",
       "      <td>110.53</td>\n",
       "      <td>111.49</td>\n",
       "      <td>43825812</td>\n",
       "    </tr>\n",
       "    <tr>\n",
       "      <th>2016-11-02</th>\n",
       "      <td>111.40</td>\n",
       "      <td>112.35</td>\n",
       "      <td>111.23</td>\n",
       "      <td>111.59</td>\n",
       "      <td>28331709</td>\n",
       "    </tr>\n",
       "    <tr>\n",
       "      <th>2016-11-03</th>\n",
       "      <td>110.98</td>\n",
       "      <td>111.46</td>\n",
       "      <td>109.55</td>\n",
       "      <td>109.83</td>\n",
       "      <td>26932602</td>\n",
       "    </tr>\n",
       "    <tr>\n",
       "      <th>2016-11-04</th>\n",
       "      <td>108.53</td>\n",
       "      <td>110.25</td>\n",
       "      <td>108.11</td>\n",
       "      <td>108.84</td>\n",
       "      <td>30836997</td>\n",
       "    </tr>\n",
       "    <tr>\n",
       "      <th>...</th>\n",
       "      <td>...</td>\n",
       "      <td>...</td>\n",
       "      <td>...</td>\n",
       "      <td>...</td>\n",
       "      <td>...</td>\n",
       "    </tr>\n",
       "    <tr>\n",
       "      <th>2017-08-11</th>\n",
       "      <td>156.60</td>\n",
       "      <td>158.57</td>\n",
       "      <td>156.07</td>\n",
       "      <td>157.48</td>\n",
       "      <td>26257096</td>\n",
       "    </tr>\n",
       "    <tr>\n",
       "      <th>2017-08-14</th>\n",
       "      <td>159.32</td>\n",
       "      <td>160.21</td>\n",
       "      <td>158.75</td>\n",
       "      <td>159.85</td>\n",
       "      <td>22122734</td>\n",
       "    </tr>\n",
       "    <tr>\n",
       "      <th>2017-08-15</th>\n",
       "      <td>160.66</td>\n",
       "      <td>162.20</td>\n",
       "      <td>160.14</td>\n",
       "      <td>161.60</td>\n",
       "      <td>29465487</td>\n",
       "    </tr>\n",
       "    <tr>\n",
       "      <th>2017-08-16</th>\n",
       "      <td>161.94</td>\n",
       "      <td>162.51</td>\n",
       "      <td>160.15</td>\n",
       "      <td>160.95</td>\n",
       "      <td>27671612</td>\n",
       "    </tr>\n",
       "    <tr>\n",
       "      <th>2017-08-17</th>\n",
       "      <td>160.52</td>\n",
       "      <td>160.71</td>\n",
       "      <td>157.84</td>\n",
       "      <td>157.86</td>\n",
       "      <td>27940565</td>\n",
       "    </tr>\n",
       "    <tr>\n",
       "      <th>2017-08-18</th>\n",
       "      <td>157.86</td>\n",
       "      <td>159.50</td>\n",
       "      <td>156.72</td>\n",
       "      <td>157.50</td>\n",
       "      <td>27428069</td>\n",
       "    </tr>\n",
       "    <tr>\n",
       "      <th>2017-08-21</th>\n",
       "      <td>157.50</td>\n",
       "      <td>157.89</td>\n",
       "      <td>155.11</td>\n",
       "      <td>157.21</td>\n",
       "      <td>26368528</td>\n",
       "    </tr>\n",
       "    <tr>\n",
       "      <th>2017-08-22</th>\n",
       "      <td>158.23</td>\n",
       "      <td>160.00</td>\n",
       "      <td>158.02</td>\n",
       "      <td>159.78</td>\n",
       "      <td>21604585</td>\n",
       "    </tr>\n",
       "    <tr>\n",
       "      <th>2017-08-23</th>\n",
       "      <td>159.07</td>\n",
       "      <td>160.47</td>\n",
       "      <td>158.88</td>\n",
       "      <td>159.98</td>\n",
       "      <td>19399081</td>\n",
       "    </tr>\n",
       "    <tr>\n",
       "      <th>2017-08-24</th>\n",
       "      <td>160.43</td>\n",
       "      <td>160.74</td>\n",
       "      <td>158.55</td>\n",
       "      <td>159.27</td>\n",
       "      <td>19818918</td>\n",
       "    </tr>\n",
       "    <tr>\n",
       "      <th>2017-08-25</th>\n",
       "      <td>159.65</td>\n",
       "      <td>160.56</td>\n",
       "      <td>159.27</td>\n",
       "      <td>159.86</td>\n",
       "      <td>25480063</td>\n",
       "    </tr>\n",
       "    <tr>\n",
       "      <th>2017-08-28</th>\n",
       "      <td>160.14</td>\n",
       "      <td>162.00</td>\n",
       "      <td>159.93</td>\n",
       "      <td>161.47</td>\n",
       "      <td>25965972</td>\n",
       "    </tr>\n",
       "    <tr>\n",
       "      <th>2017-08-29</th>\n",
       "      <td>160.10</td>\n",
       "      <td>163.12</td>\n",
       "      <td>160.00</td>\n",
       "      <td>162.91</td>\n",
       "      <td>29516910</td>\n",
       "    </tr>\n",
       "    <tr>\n",
       "      <th>2017-08-30</th>\n",
       "      <td>163.80</td>\n",
       "      <td>163.89</td>\n",
       "      <td>162.61</td>\n",
       "      <td>163.35</td>\n",
       "      <td>27269584</td>\n",
       "    </tr>\n",
       "    <tr>\n",
       "      <th>2017-08-31</th>\n",
       "      <td>163.64</td>\n",
       "      <td>164.52</td>\n",
       "      <td>163.48</td>\n",
       "      <td>164.00</td>\n",
       "      <td>26785096</td>\n",
       "    </tr>\n",
       "    <tr>\n",
       "      <th>2017-09-01</th>\n",
       "      <td>164.80</td>\n",
       "      <td>164.94</td>\n",
       "      <td>163.63</td>\n",
       "      <td>164.05</td>\n",
       "      <td>16591051</td>\n",
       "    </tr>\n",
       "    <tr>\n",
       "      <th>2017-09-05</th>\n",
       "      <td>163.75</td>\n",
       "      <td>164.25</td>\n",
       "      <td>160.56</td>\n",
       "      <td>162.08</td>\n",
       "      <td>29536314</td>\n",
       "    </tr>\n",
       "    <tr>\n",
       "      <th>2017-09-06</th>\n",
       "      <td>162.71</td>\n",
       "      <td>162.99</td>\n",
       "      <td>160.52</td>\n",
       "      <td>161.91</td>\n",
       "      <td>21651726</td>\n",
       "    </tr>\n",
       "    <tr>\n",
       "      <th>2017-09-07</th>\n",
       "      <td>162.09</td>\n",
       "      <td>162.24</td>\n",
       "      <td>160.36</td>\n",
       "      <td>161.26</td>\n",
       "      <td>21928502</td>\n",
       "    </tr>\n",
       "    <tr>\n",
       "      <th>2017-09-08</th>\n",
       "      <td>160.86</td>\n",
       "      <td>161.15</td>\n",
       "      <td>158.53</td>\n",
       "      <td>158.63</td>\n",
       "      <td>28611535</td>\n",
       "    </tr>\n",
       "    <tr>\n",
       "      <th>2017-09-11</th>\n",
       "      <td>160.50</td>\n",
       "      <td>162.05</td>\n",
       "      <td>159.89</td>\n",
       "      <td>161.50</td>\n",
       "      <td>31580798</td>\n",
       "    </tr>\n",
       "    <tr>\n",
       "      <th>2017-09-12</th>\n",
       "      <td>162.61</td>\n",
       "      <td>163.96</td>\n",
       "      <td>158.77</td>\n",
       "      <td>160.86</td>\n",
       "      <td>71714046</td>\n",
       "    </tr>\n",
       "    <tr>\n",
       "      <th>2017-09-13</th>\n",
       "      <td>159.87</td>\n",
       "      <td>159.96</td>\n",
       "      <td>157.91</td>\n",
       "      <td>159.65</td>\n",
       "      <td>44907361</td>\n",
       "    </tr>\n",
       "    <tr>\n",
       "      <th>2017-09-14</th>\n",
       "      <td>158.99</td>\n",
       "      <td>159.40</td>\n",
       "      <td>158.09</td>\n",
       "      <td>158.28</td>\n",
       "      <td>23760749</td>\n",
       "    </tr>\n",
       "    <tr>\n",
       "      <th>2017-09-15</th>\n",
       "      <td>158.47</td>\n",
       "      <td>160.97</td>\n",
       "      <td>158.00</td>\n",
       "      <td>159.88</td>\n",
       "      <td>49114602</td>\n",
       "    </tr>\n",
       "    <tr>\n",
       "      <th>2017-09-18</th>\n",
       "      <td>160.11</td>\n",
       "      <td>160.50</td>\n",
       "      <td>158.00</td>\n",
       "      <td>158.67</td>\n",
       "      <td>28269435</td>\n",
       "    </tr>\n",
       "    <tr>\n",
       "      <th>2017-09-19</th>\n",
       "      <td>159.51</td>\n",
       "      <td>159.77</td>\n",
       "      <td>158.44</td>\n",
       "      <td>158.73</td>\n",
       "      <td>20810632</td>\n",
       "    </tr>\n",
       "    <tr>\n",
       "      <th>2017-09-20</th>\n",
       "      <td>157.90</td>\n",
       "      <td>158.26</td>\n",
       "      <td>153.83</td>\n",
       "      <td>156.07</td>\n",
       "      <td>52951364</td>\n",
       "    </tr>\n",
       "    <tr>\n",
       "      <th>2017-09-21</th>\n",
       "      <td>155.80</td>\n",
       "      <td>155.80</td>\n",
       "      <td>152.75</td>\n",
       "      <td>153.39</td>\n",
       "      <td>37511661</td>\n",
       "    </tr>\n",
       "    <tr>\n",
       "      <th>2017-09-22</th>\n",
       "      <td>151.54</td>\n",
       "      <td>152.27</td>\n",
       "      <td>150.56</td>\n",
       "      <td>151.89</td>\n",
       "      <td>46645443</td>\n",
       "    </tr>\n",
       "  </tbody>\n",
       "</table>\n",
       "<p>251 rows × 5 columns</p>\n",
       "</div>"
      ],
      "text/plain": [
       "              Open    High     Low   Close    Volume\n",
       "Date                                                \n",
       "2016-09-26  111.64  113.39  111.55  112.88  29869442\n",
       "2016-09-27  113.00  113.18  112.34  113.09  24607412\n",
       "2016-09-28  113.69  114.64  113.43  113.95  29641085\n",
       "2016-09-29  113.16  113.80  111.80  112.18  35886990\n",
       "2016-09-30  112.46  113.37  111.80  113.05  36379106\n",
       "2016-10-03  112.71  113.05  112.28  112.52  21701760\n",
       "2016-10-04  113.06  114.31  112.63  113.00  29736835\n",
       "2016-10-05  113.40  113.66  112.69  113.05  21453089\n",
       "2016-10-06  113.70  114.34  113.13  113.89  28779313\n",
       "2016-10-07  114.31  114.56  113.51  114.06  24358443\n",
       "2016-10-10  115.02  116.75  114.72  116.05  36235956\n",
       "2016-10-11  117.70  118.69  116.20  116.30  64041043\n",
       "2016-10-12  117.35  117.98  116.75  117.34  37586787\n",
       "2016-10-13  116.79  117.44  115.72  116.98  35192406\n",
       "2016-10-14  117.88  118.17  117.13  117.63  35652191\n",
       "2016-10-17  117.33  117.84  116.78  117.55  23624896\n",
       "2016-10-18  118.18  118.21  117.45  117.47  24553478\n",
       "2016-10-19  117.25  117.76  113.80  117.12  20034594\n",
       "2016-10-20  116.86  117.38  116.33  117.06  24125801\n",
       "2016-10-21  116.81  116.91  116.28  116.60  23192665\n",
       "2016-10-24  117.10  117.74  117.00  117.65  23538673\n",
       "2016-10-25  117.95  118.36  117.31  118.25  48128970\n",
       "2016-10-26  114.31  115.70  113.31  115.59  66134219\n",
       "2016-10-27  115.39  115.86  114.10  114.48  34562045\n",
       "2016-10-28  113.87  115.21  113.45  113.72  37861662\n",
       "2016-10-31  113.65  114.23  113.20  113.54  26419398\n",
       "2016-11-01  113.46  113.77  110.53  111.49  43825812\n",
       "2016-11-02  111.40  112.35  111.23  111.59  28331709\n",
       "2016-11-03  110.98  111.46  109.55  109.83  26932602\n",
       "2016-11-04  108.53  110.25  108.11  108.84  30836997\n",
       "...            ...     ...     ...     ...       ...\n",
       "2017-08-11  156.60  158.57  156.07  157.48  26257096\n",
       "2017-08-14  159.32  160.21  158.75  159.85  22122734\n",
       "2017-08-15  160.66  162.20  160.14  161.60  29465487\n",
       "2017-08-16  161.94  162.51  160.15  160.95  27671612\n",
       "2017-08-17  160.52  160.71  157.84  157.86  27940565\n",
       "2017-08-18  157.86  159.50  156.72  157.50  27428069\n",
       "2017-08-21  157.50  157.89  155.11  157.21  26368528\n",
       "2017-08-22  158.23  160.00  158.02  159.78  21604585\n",
       "2017-08-23  159.07  160.47  158.88  159.98  19399081\n",
       "2017-08-24  160.43  160.74  158.55  159.27  19818918\n",
       "2017-08-25  159.65  160.56  159.27  159.86  25480063\n",
       "2017-08-28  160.14  162.00  159.93  161.47  25965972\n",
       "2017-08-29  160.10  163.12  160.00  162.91  29516910\n",
       "2017-08-30  163.80  163.89  162.61  163.35  27269584\n",
       "2017-08-31  163.64  164.52  163.48  164.00  26785096\n",
       "2017-09-01  164.80  164.94  163.63  164.05  16591051\n",
       "2017-09-05  163.75  164.25  160.56  162.08  29536314\n",
       "2017-09-06  162.71  162.99  160.52  161.91  21651726\n",
       "2017-09-07  162.09  162.24  160.36  161.26  21928502\n",
       "2017-09-08  160.86  161.15  158.53  158.63  28611535\n",
       "2017-09-11  160.50  162.05  159.89  161.50  31580798\n",
       "2017-09-12  162.61  163.96  158.77  160.86  71714046\n",
       "2017-09-13  159.87  159.96  157.91  159.65  44907361\n",
       "2017-09-14  158.99  159.40  158.09  158.28  23760749\n",
       "2017-09-15  158.47  160.97  158.00  159.88  49114602\n",
       "2017-09-18  160.11  160.50  158.00  158.67  28269435\n",
       "2017-09-19  159.51  159.77  158.44  158.73  20810632\n",
       "2017-09-20  157.90  158.26  153.83  156.07  52951364\n",
       "2017-09-21  155.80  155.80  152.75  153.39  37511661\n",
       "2017-09-22  151.54  152.27  150.56  151.89  46645443\n",
       "\n",
       "[251 rows x 5 columns]"
      ]
     },
     "execution_count": 15,
     "metadata": {},
     "output_type": "execute_result"
    }
   ],
   "source": [
    "import plotly.plotly as py\n",
    "import plotly.graph_objs as go \n",
    "\n",
    "from datetime import datetime\n",
    "import pandas_datareader as web\n",
    "\n",
    "df = web.DataReader(\"aapl\", 'google',\n",
    "                    datetime(2015, 1, 1),\n",
    "                    datetime(2016, 7, 1))\n",
    "df"
   ]
  },
  {
   "cell_type": "code",
   "execution_count": null,
   "metadata": {
    "collapsed": true
   },
   "outputs": [],
   "source": []
  },
  {
   "cell_type": "code",
   "execution_count": null,
   "metadata": {
    "collapsed": true,
    "deletable": true,
    "editable": true
   },
   "outputs": [],
   "source": []
  },
  {
   "cell_type": "code",
   "execution_count": null,
   "metadata": {
    "collapsed": false,
    "deletable": true,
    "editable": true
   },
   "outputs": [],
   "source": [
    "init_notebook_mode(connected=True)"
   ]
  },
  {
   "cell_type": "code",
   "execution_count": null,
   "metadata": {
    "collapsed": false,
    "deletable": true,
    "editable": true
   },
   "outputs": [],
   "source": [
    "import plotly\n",
    "from plotly.graph_objs import graph_objs as go\n",
    "from IPython.html.widgets import interact\n",
    "\n",
    "plotly.offline.init_notebook_mode()"
   ]
  },
  {
   "cell_type": "code",
   "execution_count": null,
   "metadata": {
    "collapsed": false,
    "deletable": true,
    "editable": true
   },
   "outputs": [],
   "source": [
    "from plotly.offline import iplot\n",
    "def view_image(w):\n",
    "    x_data = [1,2,3]\n",
    "    x1 = [i+w for i in x_data]\n",
    "    fig1 = go.Scatter(x=x1,y=[4,5,6])\n",
    "    fig2 = go.Scatter(x=x_data,y=[4,5,6])\n",
    "    iplot([fig1,fig2])\n",
    "interact(view_image, w=(0,100))"
   ]
  },
  {
   "cell_type": "code",
   "execution_count": null,
   "metadata": {
    "collapsed": true,
    "deletable": true,
    "editable": true
   },
   "outputs": [],
   "source": [
    "    "
   ]
  },
  {
   "cell_type": "code",
   "execution_count": null,
   "metadata": {
    "collapsed": true,
    "deletable": true,
    "editable": true
   },
   "outputs": [],
   "source": []
  },
  {
   "cell_type": "code",
   "execution_count": null,
   "metadata": {
    "collapsed": true,
    "deletable": true,
    "editable": true
   },
   "outputs": [],
   "source": []
  },
  {
   "cell_type": "code",
   "execution_count": null,
   "metadata": {
    "collapsed": true,
    "deletable": true,
    "editable": true
   },
   "outputs": [],
   "source": [
    "from plotly import __version__\n",
    "from plotly.offline import download_plotlyjs, init_notebook_mode, plot, iplot"
   ]
  },
  {
   "cell_type": "code",
   "execution_count": null,
   "metadata": {
    "collapsed": true,
    "deletable": true,
    "editable": true
   },
   "outputs": [],
   "source": [
    "import plotly\n",
    "plotly.tools.set_credentials_file(username='vatsal-sodha', api_key='YtT52QNSc1K2iSzr9rs6')"
   ]
  },
  {
   "cell_type": "code",
   "execution_count": null,
   "metadata": {
    "collapsed": false,
    "deletable": true,
    "editable": true
   },
   "outputs": [],
   "source": [
    "import plotly.plotly as py\n",
    "from plotly.graph_objs import *\n",
    "\n",
    "trace0 = Scatter(\n",
    "    x=[1, 2, 3, 4],\n",
    "    y=[10, 15, 13, 17]\n",
    ")\n",
    "trace1 = Scatter(\n",
    "    x=[1, 2, 3, 4],\n",
    "    y=[16, 5, 11, 9]\n",
    ")\n",
    "data = Data([trace0, trace1])\n",
    "\n",
    "py.plot(data, filename = 'basic-line')\n"
   ]
  },
  {
   "cell_type": "code",
   "execution_count": null,
   "metadata": {
    "collapsed": false,
    "deletable": true,
    "editable": true
   },
   "outputs": [],
   "source": [
    "import pandas as pd\n",
    "import plotly.plotly as py\n",
    "\n",
    "from ipywidgets import widgets \n",
    "# from IPython.display import display, clear_output, Image\n",
    "from plotly.graph_objs import *\n",
    "from plotly.widgets import GraphWidget\n",
    "\n",
    "# define our widgets\n",
    "g = GraphWidget('https://plot.ly/~vatsal-sodha/2/')\n",
    "w = widgets.Dropdown(\n",
    "    options=['red', 'blue', 'green'],\n",
    "    value='blue',\n",
    "    description='Colour:',\n",
    ")\n",
    "\n",
    "# generate a function to handle changes in the widget\n",
    "def update_on_change(change):\n",
    "   g.restyle({'marker.color': change['new']})\n",
    "    \n",
    "# set a listener for changes to the dropdown widget    \n",
    "w.observe(update_on_change, names=\"selected_label\")\n",
    "\n",
    "display(w)\n",
    "display(g)"
   ]
  },
  {
   "cell_type": "code",
   "execution_count": null,
   "metadata": {
    "collapsed": true,
    "deletable": true,
    "editable": true
   },
   "outputs": [],
   "source": []
  },
  {
   "cell_type": "code",
   "execution_count": null,
   "metadata": {
    "collapsed": false,
    "deletable": true,
    "editable": true
   },
   "outputs": [],
   "source": [
    "url = py.plot({'data': [Scatter(x=rapeData['Year'].unique(), y=rapeData['Total'])]}, \n",
    "               filename = 'widget template', auto_open=False)\n",
    "print(url)"
   ]
  },
  {
   "cell_type": "code",
   "execution_count": null,
   "metadata": {
    "collapsed": false,
    "deletable": true,
    "editable": true
   },
   "outputs": [],
   "source": [
    "from ipywidgets import widgets, interactive\n",
    "area = widgets.Dropdown(\n",
    "    options=list(rapeData['State'].unique()),\n",
    "    value='All',\n",
    "    description='Area:',\n",
    ")\n",
    "def plotit(area):\n",
    "    df=rapeData.copy()\n",
    "    if area != \"All\":\n",
    "        df=df[df['State']==area]\n",
    "    if len(df)>0:\n",
    "        plt.plot(rapeData['Year'].unique(),df)\n",
    "        plt.show()\n",
    "    else:\n",
    "        print(\"No data to show\")\n",
    "# interactive(plotit, area=area)"
   ]
  },
  {
   "cell_type": "code",
   "execution_count": null,
   "metadata": {
    "collapsed": false,
    "deletable": true,
    "editable": true
   },
   "outputs": [],
   "source": [
    "from ipywidgets import widgets \n",
    "from IPython.display import display, clear_output, Image\n",
    "from plotly.graph_objs import *\n",
    "from plotly.widgets import GraphWidget\n",
    "# from plotly.graph_objs import graph_objs as go\n",
    "import plotly.plotly as py\n",
    "# import matplotlib.pyplot as plt\n",
    "import preprocessing\n",
    "\n",
    "rapeData,murderData,kidnappingData,populationData = preprocessing.preProcessing()\n",
    "url = py.plot({'data': [Scatter(x=rapeData['Year'].unique(), y=rapeData[rapeData['State']==\"Andhra Pradesh\"]['Total'])]}, \n",
    "               filename = 'widget template', auto_open=False)\n",
    "print(url)\n",
    "graph = GraphWidget(url)\n",
    "state = widgets.Dropdown(\n",
    "    options=list(kidnappingData['State'].unique()),\n",
    "    value='Andhra Pradesh',\n",
    "    description='Colour:',\n",
    ")\n",
    "updatemenus = list([\n",
    "    dict(buttons=list([   \n",
    "            dict(label = 'None',\n",
    "                 method = 'relayout',\n",
    "                 args = ['shapes', []]),\n",
    "            dict(label = 'Cluster 0',\n",
    "                 method = 'relayout',\n",
    "                 args = ['shapes', cluster0]),\n",
    "            dict(label = 'Cluster 1',\n",
    "                 method = 'relayout',\n",
    "                 args = ['shapes', cluster1]),\n",
    "            dict(label = 'Cluster 2',\n",
    "                 method = 'relayout',\n",
    "                 args = ['shapes', cluster2]),\n",
    "            dict(label = 'All',\n",
    "                 method = 'relayout',\n",
    "                 args = ['shapes', cluster0+cluster1+cluster2])\n",
    "        ]),\n",
    "    )\n",
    "])"
   ]
  },
  {
   "cell_type": "code",
   "execution_count": null,
   "metadata": {
    "collapsed": true,
    "deletable": true,
    "editable": true
   },
   "outputs": [],
   "source": []
  },
  {
   "cell_type": "code",
   "execution_count": 14,
   "metadata": {
    "collapsed": false,
    "deletable": true,
    "editable": true
   },
   "outputs": [
    {
     "ename": "ImportError",
     "evalue": "cannot import name 'vform'",
     "output_type": "error",
     "traceback": [
      "\u001b[0;31m---------------------------------------------------------------------------\u001b[0m",
      "\u001b[0;31mImportError\u001b[0m                               Traceback (most recent call last)",
      "\u001b[0;32m<ipython-input-14-572b23ba4f01>\u001b[0m in \u001b[0;36m<module>\u001b[0;34m()\u001b[0m\n\u001b[0;32m----> 1\u001b[0;31m \u001b[0;32mfrom\u001b[0m \u001b[0mbokeh\u001b[0m\u001b[0;34m.\u001b[0m\u001b[0mio\u001b[0m \u001b[0;32mimport\u001b[0m  \u001b[0moutput_file\u001b[0m\u001b[0;34m,\u001b[0m \u001b[0mshow\u001b[0m\u001b[0;34m,\u001b[0m\u001b[0mvform\u001b[0m\u001b[0;34m\u001b[0m\u001b[0m\n\u001b[0m\u001b[1;32m      2\u001b[0m \u001b[0;32mfrom\u001b[0m \u001b[0mbokeh\u001b[0m\u001b[0;34m.\u001b[0m\u001b[0mlayouts\u001b[0m \u001b[0;32mimport\u001b[0m \u001b[0mwidgetbox\u001b[0m\u001b[0;34m\u001b[0m\u001b[0m\n\u001b[1;32m      3\u001b[0m \u001b[0;32mfrom\u001b[0m \u001b[0mbokeh\u001b[0m\u001b[0;34m.\u001b[0m\u001b[0mmodels\u001b[0m\u001b[0;34m.\u001b[0m\u001b[0mwidgets\u001b[0m \u001b[0;32mimport\u001b[0m \u001b[0mDropdown\u001b[0m\u001b[0;34m\u001b[0m\u001b[0m\n\u001b[1;32m      4\u001b[0m \u001b[0;32mfrom\u001b[0m \u001b[0mbokeh\u001b[0m\u001b[0;34m.\u001b[0m\u001b[0mmodels\u001b[0m \u001b[0;32mimport\u001b[0m \u001b[0mColumnDataSource\u001b[0m\u001b[0;34m,\u001b[0m\u001b[0mCustomJS\u001b[0m\u001b[0;34m\u001b[0m\u001b[0m\n\u001b[1;32m      5\u001b[0m \u001b[0;32mfrom\u001b[0m \u001b[0mbokeh\u001b[0m\u001b[0;34m.\u001b[0m\u001b[0mplotting\u001b[0m \u001b[0;32mimport\u001b[0m \u001b[0mfigure\u001b[0m\u001b[0;34m\u001b[0m\u001b[0m\n",
      "\u001b[0;31mImportError\u001b[0m: cannot import name 'vform'"
     ]
    }
   ],
   "source": [
    "from bokeh.io import  output_file, show,vform\n",
    "from bokeh.layouts import widgetbox\n",
    "from bokeh.models.widgets import Dropdown\n",
    "from bokeh.models import ColumnDataSource,CustomJS\n",
    "from bokeh.plotting import figure\n",
    "\n",
    "output_file(\"dropdown.html\")\n",
    "x=list(rapeData['Year'].unique())\n",
    "y=list(rapeData[rapeData['State']==\"Andhra Pradesh\"]['Total'])\n",
    "source=ColumnDataSource(data=dict(x=x, y=y))\n",
    "\n",
    "plot = figure(plot_width=600, plot_height=600)\n",
    "plot.line('x', 'y', source=source)\n",
    "\n",
    "\n",
    "menu = list(kidnappingData['State'].unique())\n",
    "\n",
    "callback = CustomJS(args=dict(source=source), code=\"\"\"\n",
    "        var data = source.get('data');\n",
    "        var f = cb_obj.get('value')\n",
    "        x = data['x']\n",
    "        y = list(data[rapeData[rapeData['State']==f]['Total']])\n",
    "        source.trigger('change');\n",
    "    \"\"\")\n",
    "dropdown = Dropdown(label=\"State\", button_type=\"warning\", menu=menu,callback=callback)\n",
    "layout=vform(dropdown,plot)\n",
    "show(layout)"
   ]
  },
  {
   "cell_type": "code",
   "execution_count": null,
   "metadata": {
    "collapsed": true
   },
   "outputs": [],
   "source": []
  },
  {
   "cell_type": "code",
   "execution_count": null,
   "metadata": {
    "collapsed": true
   },
   "outputs": [],
   "source": []
  },
  {
   "cell_type": "code",
   "execution_count": null,
   "metadata": {
    "collapsed": true
   },
   "outputs": [],
   "source": []
  },
  {
   "cell_type": "code",
   "execution_count": 10,
   "metadata": {
    "collapsed": false
   },
   "outputs": [
    {
     "data": {
      "text/plain": [
       "list"
      ]
     },
     "execution_count": 10,
     "metadata": {},
     "output_type": "execute_result"
    }
   ],
   "source": [
    "type(list(kidnappingData['State'].unique()))"
   ]
  },
  {
   "cell_type": "code",
   "execution_count": 11,
   "metadata": {
    "collapsed": false
   },
   "outputs": [
    {
     "data": {
      "text/plain": [
       "['Andhra Pradesh',\n",
       " 'Arunachal Pradesh',\n",
       " 'Assam',\n",
       " 'Bihar',\n",
       " 'Chhattisgarh',\n",
       " 'Goa',\n",
       " 'Gujarat',\n",
       " 'Haryana',\n",
       " 'Himachal Pradesh',\n",
       " 'Jammu & Kashmir',\n",
       " 'Jharkhand',\n",
       " 'Karnataka',\n",
       " 'Kerala',\n",
       " 'Madhya Pradesh',\n",
       " 'Maharashtra',\n",
       " 'Manipur',\n",
       " 'Meghalaya',\n",
       " 'Mizoram',\n",
       " 'Nagaland',\n",
       " 'Odisha',\n",
       " 'Punjab',\n",
       " 'Rajasthan',\n",
       " 'Sikkim',\n",
       " 'Tamil Nadu',\n",
       " 'Tripura',\n",
       " 'Uttar Pradesh',\n",
       " 'Uttarakhand',\n",
       " 'West Bengal',\n",
       " 'A & N Islands',\n",
       " 'Chandigarh',\n",
       " 'D&N Haveli',\n",
       " 'Daman & Diu',\n",
       " 'Delhi UT',\n",
       " 'Lakshadweep',\n",
       " 'Puducherry',\n",
       " 'Telangana']"
      ]
     },
     "execution_count": 11,
     "metadata": {},
     "output_type": "execute_result"
    }
   ],
   "source": [
    "list(kidnappingData['State'].unique())"
   ]
  },
  {
   "cell_type": "code",
   "execution_count": 28,
   "metadata": {
    "collapsed": false
   },
   "outputs": [
    {
     "data": {
      "text/plain": [
       "1029"
      ]
     },
     "execution_count": 28,
     "metadata": {},
     "output_type": "execute_result"
    }
   ],
   "source": [
    "rapeData[\"Total\"][0]"
   ]
  },
  {
   "cell_type": "code",
   "execution_count": 42,
   "metadata": {
    "collapsed": false
   },
   "outputs": [
    {
     "name": "stdout",
     "output_type": "stream",
     "text": [
      "count     14.000000\n",
      "mean     391.857143\n",
      "std      125.551618\n",
      "min      236.000000\n",
      "25%      318.750000\n",
      "50%      364.000000\n",
      "75%      437.500000\n",
      "max      733.000000\n",
      "Name: Total, dtype: float64\n"
     ]
    }
   ],
   "source": [
    "import matplotlib.pyplot as plt\n",
    "import preprocessing\n",
    "\n",
    "rapeData,murderData,kidnappingData,populationData = preprocessing.preProcessing()\n",
    "x=rapeData['Year'].unique()\n",
    "stateCrimeData=(rapeData[rapeData['State']=='Gujarat'][:])\n",
    "statePopulation=populationData[populationData['State']=='Gujarat'][:]\n",
    "print(stateCrimeData[\"Total\"].describe())\n",
    "# print(type(stateCrimeData['Total'])"
   ]
  },
  {
   "cell_type": "code",
   "execution_count": 57,
   "metadata": {
    "collapsed": false
   },
   "outputs": [
    {
     "name": "stdout",
     "output_type": "stream",
     "text": [
      "<bound method NDFrame.head of        State  Total  Year  percentage\n",
      "217  Gujarat  286.0  2001           0\n",
      "220  Gujarat  268.0  2002           0\n",
      "222  Gujarat  236.0  2003           0\n",
      "226  Gujarat  339.0  2004           0\n",
      "230  Gujarat  324.0  2005           0\n",
      "231  Gujarat  354.0  2006           0\n",
      "236  Gujarat  317.0  2007           0\n",
      "237  Gujarat  374.0  2008           0\n",
      "240  Gujarat  433.0  2009           0\n",
      "244  Gujarat  408.0  2010           0\n",
      "248  Gujarat  439.0  2011           0\n",
      "249  Gujarat  472.0  2012           0\n",
      "82   Gujarat  733.0  2013           0\n",
      "6    Gujarat  503.0  2015           0\n",
      "0        NaN    NaN   NaN          12>\n"
     ]
    }
   ],
   "source": [
    "stateCrimeData['percentage']=0\n",
    "stateCrimeData.loc[0,'percentage']=12\n",
    "# stateCrimeData['percentage'][0]=12\n",
    "print(stateCrimeData.head)"
   ]
  },
  {
   "cell_type": "code",
   "execution_count": 59,
   "metadata": {
    "collapsed": false
   },
   "outputs": [
    {
     "data": {
      "text/plain": [
       "28600.0"
      ]
     },
     "execution_count": 59,
     "metadata": {},
     "output_type": "execute_result"
    }
   ],
   "source": [
    "stateCrimeData['Total'].values[0]*100"
   ]
  },
  {
   "cell_type": "code",
   "execution_count": 64,
   "metadata": {
    "collapsed": false
   },
   "outputs": [
    {
     "data": {
      "text/plain": [
       "array([ 0.192])"
      ]
     },
     "execution_count": 64,
     "metadata": {},
     "output_type": "execute_result"
    }
   ],
   "source": [
    "float(statePopulation[\"Growth\"].values/100)"
   ]
  },
  {
   "cell_type": "code",
   "execution_count": null,
   "metadata": {
    "collapsed": true
   },
   "outputs": [],
   "source": []
  },
  {
   "cell_type": "code",
   "execution_count": null,
   "metadata": {
    "collapsed": true
   },
   "outputs": [],
   "source": []
  },
  {
   "cell_type": "code",
   "execution_count": null,
   "metadata": {
    "collapsed": true
   },
   "outputs": [],
   "source": []
  },
  {
   "cell_type": "code",
   "execution_count": null,
   "metadata": {
    "collapsed": true
   },
   "outputs": [],
   "source": []
  },
  {
   "cell_type": "code",
   "execution_count": null,
   "metadata": {
    "collapsed": true
   },
   "outputs": [],
   "source": []
  },
  {
   "cell_type": "code",
   "execution_count": null,
   "metadata": {
    "collapsed": true
   },
   "outputs": [],
   "source": []
  },
  {
   "cell_type": "code",
   "execution_count": null,
   "metadata": {
    "collapsed": true
   },
   "outputs": [],
   "source": []
  },
  {
   "cell_type": "code",
   "execution_count": null,
   "metadata": {
    "collapsed": true
   },
   "outputs": [],
   "source": []
  },
  {
   "cell_type": "code",
   "execution_count": null,
   "metadata": {
    "collapsed": true
   },
   "outputs": [],
   "source": []
  },
  {
   "cell_type": "code",
   "execution_count": null,
   "metadata": {
    "collapsed": true
   },
   "outputs": [],
   "source": []
  },
  {
   "cell_type": "code",
   "execution_count": null,
   "metadata": {
    "collapsed": true
   },
   "outputs": [],
   "source": []
  },
  {
   "cell_type": "code",
   "execution_count": null,
   "metadata": {
    "collapsed": true
   },
   "outputs": [],
   "source": []
=======
>>>>>>> 03ddec6d995ff55848e0267742988aa4dd051d4c
>>>>>>> 7a4bc3390175ef81ee70729d05d7fe55a8660550
  }
 ],
 "metadata": {
  "kernelspec": {
   "display_name": "Python 3",
   "language": "python",
   "name": "python3"
  },
  "language_info": {
   "codemirror_mode": {
    "name": "ipython",
    "version": 3
   },
   "file_extension": ".py",
   "mimetype": "text/x-python",
   "name": "python",
   "nbconvert_exporter": "python",
   "pygments_lexer": "ipython3",
   "version": "3.5.2"
  }
 },
 "nbformat": 4,
 "nbformat_minor": 2
}
